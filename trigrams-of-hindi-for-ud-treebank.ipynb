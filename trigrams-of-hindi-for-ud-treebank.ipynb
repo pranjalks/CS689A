{
 "cells": [
  {
   "cell_type": "code",
   "execution_count": 1,
   "metadata": {
    "_cell_guid": "b1076dfc-b9ad-4769-8c92-a6c4dae69d19",
    "_uuid": "8f2839f25d086af736a60e9eeb907d3b93b6e0e5",
    "execution": {
     "iopub.execute_input": "2022-11-15T07:32:39.874207Z",
     "iopub.status.busy": "2022-11-15T07:32:39.873765Z",
     "iopub.status.idle": "2022-11-15T07:32:39.891875Z",
     "shell.execute_reply": "2022-11-15T07:32:39.890333Z",
     "shell.execute_reply.started": "2022-11-15T07:32:39.874119Z"
    }
   },
   "outputs": [
    {
     "name": "stdout",
     "output_type": "stream",
     "text": [
      "/kaggle/input/nlp-assignment-1/hindi_corpus.txt\n"
     ]
    }
   ],
   "source": [
    "# This Python 3 environment comes with many helpful analytics libraries installed\n",
    "# It is defined by the kaggle/python Docker image: https://github.com/kaggle/docker-python\n",
    "# For example, here's several helpful packages to load\n",
    "\n",
    "import numpy as np # linear algebra\n",
    "import pandas as pd # data processing, CSV file I/O (e.g. pd.read_csv)\n",
    "\n",
    "# Input data files are available in the read-only \"../input/\" directory\n",
    "# For example, running this (by clicking run or pressing Shift+Enter) will list all files under the input directory\n",
    "\n",
    "import os\n",
    "for dirname, _, filenames in os.walk('/kaggle/input'):\n",
    "    for filename in filenames:\n",
    "        print(os.path.join(dirname, filename))\n",
    "\n",
    "# You can write up to 20GB to the current directory (/kaggle/working/) that gets preserved as output when you create a version using \"Save & Run All\" \n",
    "# You can also write temporary files to /kaggle/temp/, but they won't be saved outside of the current session"
   ]
  },
  {
   "cell_type": "code",
   "execution_count": 6,
   "metadata": {
    "execution": {
     "iopub.execute_input": "2022-11-15T07:48:45.738093Z",
     "iopub.status.busy": "2022-11-15T07:48:45.737599Z",
     "iopub.status.idle": "2022-11-15T07:48:46.027265Z",
     "shell.execute_reply": "2022-11-15T07:48:46.026357Z",
     "shell.execute_reply.started": "2022-11-15T07:48:45.738058Z"
    }
   },
   "outputs": [],
   "source": [
    "devdf = pd.read_csv('../input/ud-hindi-treebank-sentence-mapping/UDdev.csv')\n",
    "testdf = pd.read_csv('../input/ud-hindi-treebank-sentence-mapping/UDtest.csv')\n",
    "traindf = pd.read_csv('../input/ud-hindi-treebank-sentence-mapping/UDtrain.csv')"
   ]
  },
  {
   "cell_type": "code",
   "execution_count": 7,
   "metadata": {
    "execution": {
     "iopub.execute_input": "2022-11-15T07:48:51.727570Z",
     "iopub.status.busy": "2022-11-15T07:48:51.726998Z",
     "iopub.status.idle": "2022-11-15T07:48:51.754508Z",
     "shell.execute_reply": "2022-11-15T07:48:51.753373Z",
     "shell.execute_reply.started": "2022-11-15T07:48:51.727519Z"
    }
   },
   "outputs": [
    {
     "data": {
      "text/html": [
       "<div>\n",
       "<style scoped>\n",
       "    .dataframe tbody tr th:only-of-type {\n",
       "        vertical-align: middle;\n",
       "    }\n",
       "\n",
       "    .dataframe tbody tr th {\n",
       "        vertical-align: top;\n",
       "    }\n",
       "\n",
       "    .dataframe thead th {\n",
       "        text-align: right;\n",
       "    }\n",
       "</style>\n",
       "<table border=\"1\" class=\"dataframe\">\n",
       "  <thead>\n",
       "    <tr style=\"text-align: right;\">\n",
       "      <th></th>\n",
       "      <th>Index</th>\n",
       "      <th>Output</th>\n",
       "      <th>Input</th>\n",
       "    </tr>\n",
       "  </thead>\n",
       "  <tbody>\n",
       "    <tr>\n",
       "      <th>0</th>\n",
       "      <td>0</td>\n",
       "      <td>रामायण काल में भगवान राम का पुत्र कुश का राजधा...</td>\n",
       "      <td>रामायण काल में भगवान राम के पुत्र कुश की राजधा...</td>\n",
       "    </tr>\n",
       "    <tr>\n",
       "      <th>1</th>\n",
       "      <td>1</td>\n",
       "      <td>मल्ला का राजधानी हो के कारण प्राचीनकाल में यह ...</td>\n",
       "      <td>मल्‍लों की राजधानी होने के कारण प्राचीनकाल में...</td>\n",
       "    </tr>\n",
       "    <tr>\n",
       "      <th>2</th>\n",
       "      <td>2</td>\n",
       "      <td>बौद्ध धर्मावलंबी के अनुसार लुंबनी बोधगया और सा...</td>\n",
       "      <td>बौद्ध धर्मावलंबियों के अनुसार लुंबनी बोधगया और...</td>\n",
       "    </tr>\n",
       "    <tr>\n",
       "      <th>3</th>\n",
       "      <td>3</td>\n",
       "      <td>हिंदू राजा का काल में चीन से ह्वेन सांग फाह्या...</td>\n",
       "      <td>हिंदू राजाओं के काल में चीन से ह्वेन सांग फाह्...</td>\n",
       "    </tr>\n",
       "    <tr>\n",
       "      <th>4</th>\n",
       "      <td>4</td>\n",
       "      <td>कुशीनगर का सबसे ज्यादा महत्व बौद्ध तीर्थ के रू...</td>\n",
       "      <td>कुशीनगर का सबसे ज्‍यादा महत्‍व बौद्ध तीर्थ के ...</td>\n",
       "    </tr>\n",
       "  </tbody>\n",
       "</table>\n",
       "</div>"
      ],
      "text/plain": [
       "   Index                                             Output  \\\n",
       "0      0  रामायण काल में भगवान राम का पुत्र कुश का राजधा...   \n",
       "1      1  मल्ला का राजधानी हो के कारण प्राचीनकाल में यह ...   \n",
       "2      2  बौद्ध धर्मावलंबी के अनुसार लुंबनी बोधगया और सा...   \n",
       "3      3  हिंदू राजा का काल में चीन से ह्वेन सांग फाह्या...   \n",
       "4      4  कुशीनगर का सबसे ज्यादा महत्व बौद्ध तीर्थ के रू...   \n",
       "\n",
       "                                               Input  \n",
       "0  रामायण काल में भगवान राम के पुत्र कुश की राजधा...  \n",
       "1  मल्‍लों की राजधानी होने के कारण प्राचीनकाल में...  \n",
       "2  बौद्ध धर्मावलंबियों के अनुसार लुंबनी बोधगया और...  \n",
       "3  हिंदू राजाओं के काल में चीन से ह्वेन सांग फाह्...  \n",
       "4  कुशीनगर का सबसे ज्‍यादा महत्‍व बौद्ध तीर्थ के ...  "
      ]
     },
     "execution_count": 7,
     "metadata": {},
     "output_type": "execute_result"
    }
   ],
   "source": [
    "devdf.head()"
   ]
  },
  {
   "cell_type": "code",
   "execution_count": 8,
   "metadata": {
    "execution": {
     "iopub.execute_input": "2022-11-15T07:49:00.167717Z",
     "iopub.status.busy": "2022-11-15T07:49:00.166195Z",
     "iopub.status.idle": "2022-11-15T07:49:00.181682Z",
     "shell.execute_reply": "2022-11-15T07:49:00.180523Z",
     "shell.execute_reply.started": "2022-11-15T07:49:00.167636Z"
    }
   },
   "outputs": [
    {
     "data": {
      "text/html": [
       "<div>\n",
       "<style scoped>\n",
       "    .dataframe tbody tr th:only-of-type {\n",
       "        vertical-align: middle;\n",
       "    }\n",
       "\n",
       "    .dataframe tbody tr th {\n",
       "        vertical-align: top;\n",
       "    }\n",
       "\n",
       "    .dataframe thead th {\n",
       "        text-align: right;\n",
       "    }\n",
       "</style>\n",
       "<table border=\"1\" class=\"dataframe\">\n",
       "  <thead>\n",
       "    <tr style=\"text-align: right;\">\n",
       "      <th></th>\n",
       "      <th>Index</th>\n",
       "      <th>Output</th>\n",
       "      <th>Input</th>\n",
       "    </tr>\n",
       "  </thead>\n",
       "  <tbody>\n",
       "    <tr>\n",
       "      <th>0</th>\n",
       "      <td>0</td>\n",
       "      <td>यह अतिरिक्त गुग्गुल कुंड भीम गुफा तथा भीमशिला ...</td>\n",
       "      <td>इसके अतिरिक्त गुग्गुल कुंड भीम गुफा तथा भीमशिल...</td>\n",
       "    </tr>\n",
       "    <tr>\n",
       "      <th>1</th>\n",
       "      <td>1</td>\n",
       "      <td>आधा किमी का दूरी पर भैरवनाथ मंदिर है जहाँ केवल...</td>\n",
       "      <td>आधा किमी की दूरी पर भैरवनाथ मंदिर है जहाँ केवल...</td>\n",
       "    </tr>\n",
       "    <tr>\n",
       "      <th>2</th>\n",
       "      <td>2</td>\n",
       "      <td>भैरव का स्थान उत्तराखंड में क्षेत्रपाल अथवा भू...</td>\n",
       "      <td>भैरव का स्थान उत्तराखंड में क्षेत्रपाल अथवा भू...</td>\n",
       "    </tr>\n",
       "    <tr>\n",
       "      <th>3</th>\n",
       "      <td>3</td>\n",
       "      <td>यह सोनप्रयाग से किमी आगे और केदारनाथ में किमी ...</td>\n",
       "      <td>यह सोनप्रयाग से किमी आगे और केदारनाथ में किमी ...</td>\n",
       "    </tr>\n",
       "    <tr>\n",
       "      <th>4</th>\n",
       "      <td>4</td>\n",
       "      <td>यह ऊँचाई केवल मीटर है</td>\n",
       "      <td>इसकी ऊँचाई केवल मीटर है</td>\n",
       "    </tr>\n",
       "  </tbody>\n",
       "</table>\n",
       "</div>"
      ],
      "text/plain": [
       "   Index                                             Output  \\\n",
       "0      0  यह अतिरिक्त गुग्गुल कुंड भीम गुफा तथा भीमशिला ...   \n",
       "1      1  आधा किमी का दूरी पर भैरवनाथ मंदिर है जहाँ केवल...   \n",
       "2      2  भैरव का स्थान उत्तराखंड में क्षेत्रपाल अथवा भू...   \n",
       "3      3  यह सोनप्रयाग से किमी आगे और केदारनाथ में किमी ...   \n",
       "4      4                              यह ऊँचाई केवल मीटर है   \n",
       "\n",
       "                                               Input  \n",
       "0  इसके अतिरिक्त गुग्गुल कुंड भीम गुफा तथा भीमशिल...  \n",
       "1  आधा किमी की दूरी पर भैरवनाथ मंदिर है जहाँ केवल...  \n",
       "2  भैरव का स्थान उत्तराखंड में क्षेत्रपाल अथवा भू...  \n",
       "3  यह सोनप्रयाग से किमी आगे और केदारनाथ में किमी ...  \n",
       "4                            इसकी ऊँचाई केवल मीटर है  "
      ]
     },
     "execution_count": 8,
     "metadata": {},
     "output_type": "execute_result"
    }
   ],
   "source": [
    "testdf.head()"
   ]
  },
  {
   "cell_type": "code",
   "execution_count": 9,
   "metadata": {
    "execution": {
     "iopub.execute_input": "2022-11-15T07:49:06.392659Z",
     "iopub.status.busy": "2022-11-15T07:49:06.392039Z",
     "iopub.status.idle": "2022-11-15T07:49:06.410096Z",
     "shell.execute_reply": "2022-11-15T07:49:06.408354Z",
     "shell.execute_reply.started": "2022-11-15T07:49:06.392615Z"
    }
   },
   "outputs": [
    {
     "data": {
      "text/html": [
       "<div>\n",
       "<style scoped>\n",
       "    .dataframe tbody tr th:only-of-type {\n",
       "        vertical-align: middle;\n",
       "    }\n",
       "\n",
       "    .dataframe tbody tr th {\n",
       "        vertical-align: top;\n",
       "    }\n",
       "\n",
       "    .dataframe thead th {\n",
       "        text-align: right;\n",
       "    }\n",
       "</style>\n",
       "<table border=\"1\" class=\"dataframe\">\n",
       "  <thead>\n",
       "    <tr style=\"text-align: right;\">\n",
       "      <th></th>\n",
       "      <th>Index</th>\n",
       "      <th>Output</th>\n",
       "      <th>Input</th>\n",
       "    </tr>\n",
       "  </thead>\n",
       "  <tbody>\n",
       "    <tr>\n",
       "      <th>0</th>\n",
       "      <td>0</td>\n",
       "      <td>यह एशिया का सबसे बड़ा मस्जिद में से एक है</td>\n",
       "      <td>यह एशिया की सबसे बड़ी मस्जिदों में से एक है</td>\n",
       "    </tr>\n",
       "    <tr>\n",
       "      <th>1</th>\n",
       "      <td>1</td>\n",
       "      <td>यह नवाब शाहजेहन ने बनवा था</td>\n",
       "      <td>इसे नवाब शाहजेहन ने बनवाया था</td>\n",
       "    </tr>\n",
       "    <tr>\n",
       "      <th>2</th>\n",
       "      <td>2</td>\n",
       "      <td>यह प्रवेश द्वार दो मंजिला है</td>\n",
       "      <td>इसका प्रवेश द्वार दो मंजिला है</td>\n",
       "    </tr>\n",
       "    <tr>\n",
       "      <th>3</th>\n",
       "      <td>3</td>\n",
       "      <td>जो चार मेहराब है और मुख्य प्रार्थना हॉल में जा...</td>\n",
       "      <td>जिसमें चार मेहराबें हैं और मुख्य प्रार्थना हॉल...</td>\n",
       "    </tr>\n",
       "    <tr>\n",
       "      <th>4</th>\n",
       "      <td>4</td>\n",
       "      <td>पूरा इमारत बेहद खूबसूरत है</td>\n",
       "      <td>पूरी इमारत बेहद खूबसूरत है</td>\n",
       "    </tr>\n",
       "  </tbody>\n",
       "</table>\n",
       "</div>"
      ],
      "text/plain": [
       "   Index                                             Output  \\\n",
       "0      0          यह एशिया का सबसे बड़ा मस्जिद में से एक है   \n",
       "1      1                         यह नवाब शाहजेहन ने बनवा था   \n",
       "2      2                       यह प्रवेश द्वार दो मंजिला है   \n",
       "3      3  जो चार मेहराब है और मुख्य प्रार्थना हॉल में जा...   \n",
       "4      4                         पूरा इमारत बेहद खूबसूरत है   \n",
       "\n",
       "                                               Input  \n",
       "0        यह एशिया की सबसे बड़ी मस्जिदों में से एक है  \n",
       "1                      इसे नवाब शाहजेहन ने बनवाया था  \n",
       "2                     इसका प्रवेश द्वार दो मंजिला है  \n",
       "3  जिसमें चार मेहराबें हैं और मुख्य प्रार्थना हॉल...  \n",
       "4                         पूरी इमारत बेहद खूबसूरत है  "
      ]
     },
     "execution_count": 9,
     "metadata": {},
     "output_type": "execute_result"
    }
   ],
   "source": [
    "traindf.head()"
   ]
  },
  {
   "cell_type": "code",
   "execution_count": 10,
   "metadata": {
    "execution": {
     "iopub.execute_input": "2022-11-15T07:55:21.154196Z",
     "iopub.status.busy": "2022-11-15T07:55:21.153552Z",
     "iopub.status.idle": "2022-11-15T07:55:21.165982Z",
     "shell.execute_reply": "2022-11-15T07:55:21.164089Z",
     "shell.execute_reply.started": "2022-11-15T07:55:21.154154Z"
    }
   },
   "outputs": [],
   "source": [
    "def findContext(df, context):\n",
    "    \n",
    "    for i in range(len(df)):\n",
    "        data = df.iloc[i]\n",
    "        lemmaSent = data['Output']\n",
    "        wordSent = data['Input']\n",
    "        \n",
    "        lemmas = lemmaSent.split()\n",
    "        words = wordSent.split()\n",
    "        \n",
    "        for i in range(1, len(words)-1):\n",
    "            context[words[i]] = lemmas[i] + \"_\" + words[i-1] + \"_\" + words[i+1]\n",
    "                    \n",
    "        if(i % 1000 == 0):\n",
    "            print(\"Till row \" + str(i) + \" processed.\")\n",
    "            \n",
    "    return context"
   ]
  },
  {
   "cell_type": "code",
   "execution_count": 11,
   "metadata": {
    "execution": {
     "iopub.execute_input": "2022-11-15T07:56:19.377391Z",
     "iopub.status.busy": "2022-11-15T07:56:19.376789Z",
     "iopub.status.idle": "2022-11-15T07:56:22.182121Z",
     "shell.execute_reply": "2022-11-15T07:56:22.180321Z",
     "shell.execute_reply.started": "2022-11-15T07:56:19.377346Z"
    }
   },
   "outputs": [
    {
     "name": "stdout",
     "output_type": "stream",
     "text": [
      "17451\n"
     ]
    }
   ],
   "source": [
    "context = findContext(traindf, {})\n",
    "context = findContext(testdf, context)\n",
    "context = findContext(devdf, context)\n",
    "print(len(context))"
   ]
  },
  {
   "cell_type": "code",
   "execution_count": 13,
   "metadata": {
    "execution": {
     "iopub.execute_input": "2022-11-15T07:57:12.061558Z",
     "iopub.status.busy": "2022-11-15T07:57:12.059846Z",
     "iopub.status.idle": "2022-11-15T07:57:12.101944Z",
     "shell.execute_reply": "2022-11-15T07:57:12.099961Z",
     "shell.execute_reply.started": "2022-11-15T07:57:12.061501Z"
    }
   },
   "outputs": [],
   "source": [
    "wordList = []\n",
    "lemmaList = []\n",
    "contextList = []\n",
    "\n",
    "for word, values in context.items():\n",
    "    values = values.split('_')\n",
    "    wordList.append(word)\n",
    "    lemmaList.append(values[0])\n",
    "    contextList.append(values[1] + \" \" + word + \" \" + values[2])"
   ]
  },
  {
   "cell_type": "code",
   "execution_count": 14,
   "metadata": {
    "execution": {
     "iopub.execute_input": "2022-11-15T07:57:21.694223Z",
     "iopub.status.busy": "2022-11-15T07:57:21.693783Z",
     "iopub.status.idle": "2022-11-15T07:57:21.701880Z",
     "shell.execute_reply": "2022-11-15T07:57:21.700194Z",
     "shell.execute_reply.started": "2022-11-15T07:57:21.694190Z"
    }
   },
   "outputs": [
    {
     "name": "stdout",
     "output_type": "stream",
     "text": [
      "17451\n",
      "17451\n",
      "17451\n"
     ]
    }
   ],
   "source": [
    "print(len(wordList))\n",
    "print(len(lemmaList))\n",
    "print(len(contextList))"
   ]
  },
  {
   "cell_type": "code",
   "execution_count": 15,
   "metadata": {
    "execution": {
     "iopub.execute_input": "2022-11-15T07:57:35.447531Z",
     "iopub.status.busy": "2022-11-15T07:57:35.447118Z",
     "iopub.status.idle": "2022-11-15T07:57:35.474924Z",
     "shell.execute_reply": "2022-11-15T07:57:35.473637Z",
     "shell.execute_reply.started": "2022-11-15T07:57:35.447499Z"
    }
   },
   "outputs": [
    {
     "data": {
      "text/html": [
       "<div>\n",
       "<style scoped>\n",
       "    .dataframe tbody tr th:only-of-type {\n",
       "        vertical-align: middle;\n",
       "    }\n",
       "\n",
       "    .dataframe tbody tr th {\n",
       "        vertical-align: top;\n",
       "    }\n",
       "\n",
       "    .dataframe thead th {\n",
       "        text-align: right;\n",
       "    }\n",
       "</style>\n",
       "<table border=\"1\" class=\"dataframe\">\n",
       "  <thead>\n",
       "    <tr style=\"text-align: right;\">\n",
       "      <th></th>\n",
       "      <th>Index</th>\n",
       "      <th>Lemma</th>\n",
       "      <th>Derived Word</th>\n",
       "      <th>Context</th>\n",
       "    </tr>\n",
       "  </thead>\n",
       "  <tbody>\n",
       "    <tr>\n",
       "      <th>0</th>\n",
       "      <td>1</td>\n",
       "      <td>एशिया</td>\n",
       "      <td>एशिया</td>\n",
       "      <td>पश्चिम एशिया में</td>\n",
       "    </tr>\n",
       "    <tr>\n",
       "      <th>1</th>\n",
       "      <td>2</td>\n",
       "      <td>कर</td>\n",
       "      <td>की</td>\n",
       "      <td>माँग की थी</td>\n",
       "    </tr>\n",
       "    <tr>\n",
       "      <th>2</th>\n",
       "      <td>3</td>\n",
       "      <td>सबसे</td>\n",
       "      <td>सबसे</td>\n",
       "      <td>को सबसे ज्यादा</td>\n",
       "    </tr>\n",
       "    <tr>\n",
       "      <th>3</th>\n",
       "      <td>4</td>\n",
       "      <td>बडा</td>\n",
       "      <td>बड़ी</td>\n",
       "      <td>पर बड़ी तादाद</td>\n",
       "    </tr>\n",
       "    <tr>\n",
       "      <th>4</th>\n",
       "      <td>5</td>\n",
       "      <td>मस्जिद</td>\n",
       "      <td>मस्जिदों</td>\n",
       "      <td>और मस्जिदों और</td>\n",
       "    </tr>\n",
       "  </tbody>\n",
       "</table>\n",
       "</div>"
      ],
      "text/plain": [
       "   Index   Lemma Derived Word           Context\n",
       "0      1   एशिया        एशिया  पश्चिम एशिया में\n",
       "1      2      कर           की        माँग की थी\n",
       "2      3    सबसे         सबसे    को सबसे ज्यादा\n",
       "3      4     बडा         बड़ी     पर बड़ी तादाद\n",
       "4      5  मस्जिद     मस्जिदों    और मस्जिदों और"
      ]
     },
     "execution_count": 15,
     "metadata": {},
     "output_type": "execute_result"
    }
   ],
   "source": [
    "contextdf = pd.DataFrame()\n",
    "contextdf['Index'] = range(1, len(wordList) + 1)\n",
    "contextdf['Lemma'] = lemmaList\n",
    "contextdf['Derived Word'] = wordList\n",
    "contextdf['Context'] = contextList\n",
    "contextdf.head()"
   ]
  },
  {
   "cell_type": "code",
   "execution_count": 16,
   "metadata": {
    "execution": {
     "iopub.execute_input": "2022-11-15T07:57:50.410123Z",
     "iopub.status.busy": "2022-11-15T07:57:50.409691Z",
     "iopub.status.idle": "2022-11-15T07:57:50.471396Z",
     "shell.execute_reply": "2022-11-15T07:57:50.469736Z",
     "shell.execute_reply.started": "2022-11-15T07:57:50.410090Z"
    }
   },
   "outputs": [],
   "source": [
    "contextdf.to_csv('./ContextUD.csv')"
   ]
  },
  {
   "cell_type": "code",
   "execution_count": null,
   "metadata": {},
   "outputs": [],
   "source": []
  }
 ],
 "metadata": {
  "kernelspec": {
   "display_name": "Python 3 (ipykernel)",
   "language": "python",
   "name": "python3"
  },
  "language_info": {
   "codemirror_mode": {
    "name": "ipython",
    "version": 3
   },
   "file_extension": ".py",
   "mimetype": "text/x-python",
   "name": "python",
   "nbconvert_exporter": "python",
   "pygments_lexer": "ipython3",
   "version": "3.10.8"
  }
 },
 "nbformat": 4,
 "nbformat_minor": 4
}
