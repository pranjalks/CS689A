{
 "cells": [
  {
   "cell_type": "code",
   "execution_count": 3,
   "metadata": {
    "_cell_guid": "b1076dfc-b9ad-4769-8c92-a6c4dae69d19",
    "_uuid": "8f2839f25d086af736a60e9eeb907d3b93b6e0e5",
    "execution": {
     "iopub.execute_input": "2022-11-15T16:26:40.777015Z",
     "iopub.status.busy": "2022-11-15T16:26:40.776468Z",
     "iopub.status.idle": "2022-11-15T16:26:40.797150Z",
     "shell.execute_reply": "2022-11-15T16:26:40.795954Z",
     "shell.execute_reply.started": "2022-11-15T16:26:40.776984Z"
    }
   },
   "outputs": [
    {
     "name": "stdout",
     "output_type": "stream",
     "text": [
      "/kaggle/input/generated-dataset-nlp-project/newWords_top5.csv\n",
      "/kaggle/input/generated-dataset-nlp-project/cleaned_generated.csv\n",
      "/kaggle/input/nlp-assignment-1/hindi_corpus.txt\n"
     ]
    }
   ],
   "source": [
    "# This Python 3 environment comes with many helpful analytics libraries installed\n",
    "# It is defined by the kaggle/python Docker image: https://github.com/kaggle/docker-python\n",
    "# For example, here's several helpful packages to load\n",
    "\n",
    "import numpy as np # linear algebra\n",
    "import pandas as pd # data processing, CSV file I/O (e.g. pd.read_csv)\n",
    "\n",
    "# Input data files are available in the read-only \"../input/\" directory\n",
    "# For example, running this (by clicking run or pressing Shift+Enter) will list all files under the input directory\n",
    "\n",
    "import os\n",
    "for dirname, _, filenames in os.walk('/kaggle/input'):\n",
    "    for filename in filenames:\n",
    "        print(os.path.join(dirname, filename))\n",
    "\n",
    "# You can write up to 20GB to the current directory (/kaggle/working/) that gets preserved as output when you create a version using \"Save & Run All\" \n",
    "# You can also write temporary files to /kaggle/temp/, but they won't be saved outside of the current session"
   ]
  },
  {
   "cell_type": "code",
   "execution_count": 1,
   "metadata": {
    "execution": {
     "iopub.execute_input": "2022-11-15T16:26:37.810746Z",
     "iopub.status.busy": "2022-11-15T16:26:37.810307Z",
     "iopub.status.idle": "2022-11-15T16:26:37.844447Z",
     "shell.execute_reply": "2022-11-15T16:26:37.843408Z",
     "shell.execute_reply.started": "2022-11-15T16:26:37.810662Z"
    }
   },
   "outputs": [],
   "source": [
    "import re"
   ]
  },
  {
   "cell_type": "code",
   "execution_count": 2,
   "metadata": {
    "execution": {
     "iopub.execute_input": "2022-11-15T16:26:38.944332Z",
     "iopub.status.busy": "2022-11-15T16:26:38.943966Z",
     "iopub.status.idle": "2022-11-15T16:26:38.951086Z",
     "shell.execute_reply": "2022-11-15T16:26:38.949635Z",
     "shell.execute_reply.started": "2022-11-15T16:26:38.944305Z"
    }
   },
   "outputs": [],
   "source": [
    "input_path = '../input/nlp-assignment-1/hindi_corpus.txt'"
   ]
  },
  {
   "cell_type": "code",
   "execution_count": 4,
   "metadata": {
    "execution": {
     "iopub.execute_input": "2022-11-15T16:43:10.153571Z",
     "iopub.status.busy": "2022-11-15T16:43:10.153082Z",
     "iopub.status.idle": "2022-11-15T16:43:10.163081Z",
     "shell.execute_reply": "2022-11-15T16:43:10.160552Z",
     "shell.execute_reply.started": "2022-11-15T16:43:10.153540Z"
    }
   },
   "outputs": [],
   "source": [
    "#Filter word to remove non-Devanagari characters and punctuation marks\n",
    "def filterWord(word):\n",
    "    filterRegex = re.compile(r'[0-9।-ॱॽ,-:]')\n",
    "    \n",
    "    for char in word:\n",
    "        char_unicode = ord(char)\n",
    "        if(filterRegex.search(char) or char_unicode < 2300 or char_unicode > 2431):\n",
    "            return False\n",
    "            \n",
    "    return True"
   ]
  },
  {
   "cell_type": "code",
   "execution_count": 14,
   "metadata": {
    "execution": {
     "iopub.execute_input": "2022-11-15T16:46:02.505569Z",
     "iopub.status.busy": "2022-11-15T16:46:02.505133Z",
     "iopub.status.idle": "2022-11-15T16:46:02.517357Z",
     "shell.execute_reply": "2022-11-15T16:46:02.516192Z",
     "shell.execute_reply.started": "2022-11-15T16:46:02.505538Z"
    }
   },
   "outputs": [],
   "source": [
    "#Find trigrams from given file path\n",
    "def findTrigrams(input_path):\n",
    "    linenumber = 1\n",
    "    batchnumber = 1\n",
    "    batchsize = 100_000 #process 100,000 lines and then write to output file, this prevents Thrashing\n",
    "    batch = {}\n",
    "\n",
    "    #Create a Regular Expression to filter out all words with any numeric character\n",
    "    #or characters like ।, ॽ, :, -, ,\n",
    "    filterRegex = re.compile(r'[0-9।-ॱॽ,-:]')\n",
    "    \n",
    "    with open(input_path, 'r', encoding='utf-8') as in_fp:\n",
    "        for line in in_fp.readlines():\n",
    "            tokens = []\n",
    "            for token in line.split():\n",
    "                if(filterWord(token)):\n",
    "                    tokens.append(token)\n",
    "                \n",
    "            #Tri-gram of tokens\n",
    "            for i in range(1, len(tokens) - 1):\n",
    "                batch[tokens[i]] = tokens[i-1] + \"_\" + tokens[i+1]\n",
    "            \n",
    "            if(linenumber == batchsize):\n",
    "                print(str(batchnumber) + \" processed.\")\n",
    "                linenumber = 1\n",
    "                batchnumber += 1\n",
    "            else:\n",
    "                linenumber += 1\n",
    "            \n",
    "    return batch"
   ]
  },
  {
   "cell_type": "code",
   "execution_count": 15,
   "metadata": {
    "execution": {
     "iopub.execute_input": "2022-11-15T16:46:10.992580Z",
     "iopub.status.busy": "2022-11-15T16:46:10.992223Z",
     "iopub.status.idle": "2022-11-15T17:15:54.642090Z",
     "shell.execute_reply": "2022-11-15T17:15:54.640849Z",
     "shell.execute_reply.started": "2022-11-15T16:46:10.992553Z"
    }
   },
   "outputs": [
    {
     "name": "stdout",
     "output_type": "stream",
     "text": [
      "1 processed.\n",
      "2 processed.\n",
      "3 processed.\n",
      "4 processed.\n",
      "5 processed.\n",
      "6 processed.\n",
      "7 processed.\n",
      "8 processed.\n",
      "9 processed.\n",
      "10 processed.\n",
      "11 processed.\n",
      "12 processed.\n",
      "13 processed.\n",
      "14 processed.\n",
      "15 processed.\n",
      "16 processed.\n",
      "17 processed.\n",
      "18 processed.\n",
      "19 processed.\n",
      "20 processed.\n",
      "21 processed.\n",
      "22 processed.\n",
      "23 processed.\n",
      "24 processed.\n",
      "25 processed.\n",
      "26 processed.\n",
      "27 processed.\n",
      "28 processed.\n",
      "29 processed.\n",
      "30 processed.\n",
      "31 processed.\n",
      "32 processed.\n",
      "33 processed.\n",
      "34 processed.\n",
      "35 processed.\n",
      "36 processed.\n",
      "37 processed.\n",
      "38 processed.\n",
      "39 processed.\n",
      "40 processed.\n",
      "41 processed.\n",
      "42 processed.\n",
      "43 processed.\n",
      "44 processed.\n",
      "45 processed.\n",
      "46 processed.\n",
      "47 processed.\n",
      "48 processed.\n",
      "49 processed.\n",
      "50 processed.\n",
      "51 processed.\n",
      "52 processed.\n",
      "53 processed.\n",
      "54 processed.\n",
      "55 processed.\n",
      "56 processed.\n",
      "57 processed.\n",
      "58 processed.\n",
      "59 processed.\n",
      "60 processed.\n",
      "61 processed.\n",
      "62 processed.\n",
      "63 processed.\n",
      "64 processed.\n",
      "65 processed.\n",
      "66 processed.\n",
      "67 processed.\n",
      "68 processed.\n",
      "69 processed.\n",
      "70 processed.\n",
      "71 processed.\n",
      "72 processed.\n",
      "73 processed.\n",
      "74 processed.\n",
      "75 processed.\n",
      "76 processed.\n",
      "77 processed.\n",
      "78 processed.\n",
      "79 processed.\n",
      "80 processed.\n",
      "81 processed.\n",
      "82 processed.\n",
      "83 processed.\n",
      "84 processed.\n",
      "85 processed.\n",
      "86 processed.\n",
      "87 processed.\n",
      "88 processed.\n",
      "89 processed.\n",
      "90 processed.\n",
      "91 processed.\n",
      "92 processed.\n",
      "93 processed.\n",
      "94 processed.\n",
      "95 processed.\n",
      "96 processed.\n",
      "97 processed.\n",
      "98 processed.\n",
      "99 processed.\n",
      "100 processed.\n",
      "101 processed.\n",
      "102 processed.\n",
      "103 processed.\n",
      "104 processed.\n",
      "105 processed.\n",
      "106 processed.\n",
      "107 processed.\n",
      "108 processed.\n",
      "109 processed.\n",
      "110 processed.\n",
      "111 processed.\n",
      "112 processed.\n",
      "113 processed.\n",
      "114 processed.\n",
      "115 processed.\n",
      "116 processed.\n",
      "117 processed.\n",
      "118 processed.\n",
      "119 processed.\n",
      "120 processed.\n",
      "121 processed.\n",
      "122 processed.\n",
      "123 processed.\n",
      "124 processed.\n",
      "125 processed.\n",
      "126 processed.\n",
      "127 processed.\n",
      "128 processed.\n",
      "129 processed.\n",
      "130 processed.\n",
      "131 processed.\n",
      "132 processed.\n",
      "133 processed.\n",
      "134 processed.\n",
      "135 processed.\n",
      "136 processed.\n",
      "137 processed.\n",
      "138 processed.\n",
      "139 processed.\n",
      "140 processed.\n",
      "141 processed.\n",
      "142 processed.\n",
      "143 processed.\n",
      "144 processed.\n",
      "145 processed.\n",
      "146 processed.\n",
      "147 processed.\n",
      "148 processed.\n",
      "149 processed.\n",
      "150 processed.\n",
      "151 processed.\n",
      "152 processed.\n",
      "153 processed.\n",
      "154 processed.\n",
      "155 processed.\n",
      "156 processed.\n",
      "157 processed.\n",
      "158 processed.\n",
      "159 processed.\n",
      "160 processed.\n",
      "161 processed.\n",
      "162 processed.\n",
      "163 processed.\n",
      "164 processed.\n",
      "165 processed.\n",
      "166 processed.\n",
      "167 processed.\n",
      "168 processed.\n",
      "169 processed.\n",
      "170 processed.\n",
      "171 processed.\n",
      "172 processed.\n",
      "173 processed.\n",
      "174 processed.\n",
      "175 processed.\n",
      "176 processed.\n",
      "177 processed.\n",
      "178 processed.\n",
      "179 processed.\n",
      "180 processed.\n",
      "181 processed.\n",
      "182 processed.\n",
      "183 processed.\n",
      "184 processed.\n",
      "185 processed.\n",
      "186 processed.\n",
      "187 processed.\n",
      "188 processed.\n",
      "189 processed.\n",
      "190 processed.\n",
      "191 processed.\n",
      "192 processed.\n",
      "193 processed.\n",
      "194 processed.\n",
      "195 processed.\n",
      "196 processed.\n",
      "197 processed.\n",
      "198 processed.\n",
      "199 processed.\n",
      "200 processed.\n",
      "201 processed.\n",
      "202 processed.\n",
      "203 processed.\n",
      "204 processed.\n",
      "205 processed.\n",
      "206 processed.\n",
      "207 processed.\n",
      "208 processed.\n",
      "209 processed.\n",
      "210 processed.\n"
     ]
    }
   ],
   "source": [
    "wordTrigrams = findTrigrams(input_path)"
   ]
  },
  {
   "cell_type": "code",
   "execution_count": 16,
   "metadata": {
    "execution": {
     "iopub.execute_input": "2022-11-15T17:15:54.644491Z",
     "iopub.status.busy": "2022-11-15T17:15:54.644060Z",
     "iopub.status.idle": "2022-11-15T17:15:54.652303Z",
     "shell.execute_reply": "2022-11-15T17:15:54.650229Z",
     "shell.execute_reply.started": "2022-11-15T17:15:54.644450Z"
    }
   },
   "outputs": [
    {
     "name": "stdout",
     "output_type": "stream",
     "text": [
      "1918803\n"
     ]
    }
   ],
   "source": [
    "print(len(wordTrigrams))"
   ]
  },
  {
   "cell_type": "code",
   "execution_count": 17,
   "metadata": {
    "execution": {
     "iopub.execute_input": "2022-11-15T17:17:30.938675Z",
     "iopub.status.busy": "2022-11-15T17:17:30.937459Z",
     "iopub.status.idle": "2022-11-15T17:17:31.142341Z",
     "shell.execute_reply": "2022-11-15T17:17:31.140454Z",
     "shell.execute_reply.started": "2022-11-15T17:17:30.938622Z"
    }
   },
   "outputs": [
    {
     "data": {
      "text/html": [
       "<div>\n",
       "<style scoped>\n",
       "    .dataframe tbody tr th:only-of-type {\n",
       "        vertical-align: middle;\n",
       "    }\n",
       "\n",
       "    .dataframe tbody tr th {\n",
       "        vertical-align: top;\n",
       "    }\n",
       "\n",
       "    .dataframe thead th {\n",
       "        text-align: right;\n",
       "    }\n",
       "</style>\n",
       "<table border=\"1\" class=\"dataframe\">\n",
       "  <thead>\n",
       "    <tr style=\"text-align: right;\">\n",
       "      <th></th>\n",
       "      <th>S. No</th>\n",
       "      <th>Derived Word</th>\n",
       "      <th>Lemma</th>\n",
       "    </tr>\n",
       "  </thead>\n",
       "  <tbody>\n",
       "    <tr>\n",
       "      <th>0</th>\n",
       "      <td>0</td>\n",
       "      <td>मोमबत्तियों</td>\n",
       "      <td>मोमबत्ती</td>\n",
       "    </tr>\n",
       "    <tr>\n",
       "      <th>1</th>\n",
       "      <td>1</td>\n",
       "      <td>मोमबत्तियाँ</td>\n",
       "      <td>मोमबत्ती</td>\n",
       "    </tr>\n",
       "    <tr>\n",
       "      <th>2</th>\n",
       "      <td>2</td>\n",
       "      <td>मोमबत्ति</td>\n",
       "      <td>मोमबत्ती</td>\n",
       "    </tr>\n",
       "    <tr>\n",
       "      <th>3</th>\n",
       "      <td>3</td>\n",
       "      <td>मोमबत्तिया</td>\n",
       "      <td>मोमबत्ती</td>\n",
       "    </tr>\n",
       "    <tr>\n",
       "      <th>4</th>\n",
       "      <td>4</td>\n",
       "      <td>गन्नाः</td>\n",
       "      <td>गन्ना</td>\n",
       "    </tr>\n",
       "  </tbody>\n",
       "</table>\n",
       "</div>"
      ],
      "text/plain": [
       "   S. No Derived Word     Lemma\n",
       "0      0  मोमबत्तियों  मोमबत्ती\n",
       "1      1  मोमबत्तियाँ  मोमबत्ती\n",
       "2      2     मोमबत्ति  मोमबत्ती\n",
       "3      3   मोमबत्तिया  मोमबत्ती\n",
       "4      4       गन्नाः     गन्ना"
      ]
     },
     "execution_count": 17,
     "metadata": {},
     "output_type": "execute_result"
    }
   ],
   "source": [
    "#Read CSV file containing top 5 words mapped to each lemma\n",
    "gendf = pd.read_csv('../input/generated-dataset-nlp-project/newWords_top5.csv')\n",
    "gendf.head()"
   ]
  },
  {
   "cell_type": "code",
   "execution_count": 18,
   "metadata": {
    "execution": {
     "iopub.execute_input": "2022-11-15T17:17:32.497929Z",
     "iopub.status.busy": "2022-11-15T17:17:32.497493Z",
     "iopub.status.idle": "2022-11-15T17:17:32.507694Z",
     "shell.execute_reply": "2022-11-15T17:17:32.506180Z",
     "shell.execute_reply.started": "2022-11-15T17:17:32.497898Z"
    }
   },
   "outputs": [],
   "source": [
    "def findContext(df, wordTrigrams):\n",
    "    context = {}\n",
    "    notFound = {}\n",
    "    \n",
    "    for i in range(len(df)):\n",
    "        data = df.iloc[i]\n",
    "        word = data['Derived Word']\n",
    "        lemma = data['Lemma']\n",
    "        \n",
    "        if word in wordTrigrams:\n",
    "            context[word] = lemma + \"_\" + wordTrigrams[word]\n",
    "        else:\n",
    "            notFound[word] = lemma\n",
    "            \n",
    "        if(i % 1000 == 0):\n",
    "            print(\"Till row \" + str(i) + \" processed.\")\n",
    "            \n",
    "    return context, notFound"
   ]
  },
  {
   "cell_type": "code",
   "execution_count": 19,
   "metadata": {
    "execution": {
     "iopub.execute_input": "2022-11-15T17:17:36.122319Z",
     "iopub.status.busy": "2022-11-15T17:17:36.121934Z",
     "iopub.status.idle": "2022-11-15T17:17:43.412722Z",
     "shell.execute_reply": "2022-11-15T17:17:43.410316Z",
     "shell.execute_reply.started": "2022-11-15T17:17:36.122291Z"
    }
   },
   "outputs": [
    {
     "name": "stdout",
     "output_type": "stream",
     "text": [
      "Till row 0 processed.\n",
      "Till row 1000 processed.\n",
      "Till row 2000 processed.\n",
      "Till row 3000 processed.\n",
      "Till row 4000 processed.\n",
      "Till row 5000 processed.\n",
      "Till row 6000 processed.\n",
      "Till row 7000 processed.\n",
      "Till row 8000 processed.\n",
      "Till row 9000 processed.\n",
      "Till row 10000 processed.\n",
      "Till row 11000 processed.\n",
      "Till row 12000 processed.\n",
      "Till row 13000 processed.\n",
      "Till row 14000 processed.\n",
      "Till row 15000 processed.\n",
      "Till row 16000 processed.\n",
      "Till row 17000 processed.\n",
      "Till row 18000 processed.\n",
      "Till row 19000 processed.\n",
      "Till row 20000 processed.\n",
      "Till row 21000 processed.\n",
      "Till row 22000 processed.\n",
      "Till row 23000 processed.\n",
      "Till row 24000 processed.\n",
      "Till row 25000 processed.\n",
      "Till row 26000 processed.\n",
      "Till row 27000 processed.\n",
      "Till row 28000 processed.\n",
      "Till row 29000 processed.\n",
      "Till row 30000 processed.\n",
      "Till row 31000 processed.\n",
      "Till row 32000 processed.\n",
      "Till row 33000 processed.\n",
      "Till row 34000 processed.\n",
      "Till row 35000 processed.\n",
      "Till row 36000 processed.\n",
      "Till row 37000 processed.\n",
      "Till row 38000 processed.\n",
      "Till row 39000 processed.\n",
      "Till row 40000 processed.\n",
      "Till row 41000 processed.\n",
      "Till row 42000 processed.\n",
      "Till row 43000 processed.\n",
      "Till row 44000 processed.\n",
      "Till row 45000 processed.\n",
      "Till row 46000 processed.\n",
      "Till row 47000 processed.\n",
      "Till row 48000 processed.\n",
      "Till row 49000 processed.\n"
     ]
    }
   ],
   "source": [
    "context, notFound = findContext(gendf, wordTrigrams)"
   ]
  },
  {
   "cell_type": "code",
   "execution_count": 20,
   "metadata": {
    "execution": {
     "iopub.execute_input": "2022-11-15T17:17:46.335837Z",
     "iopub.status.busy": "2022-11-15T17:17:46.335403Z",
     "iopub.status.idle": "2022-11-15T17:17:46.344576Z",
     "shell.execute_reply": "2022-11-15T17:17:46.342269Z",
     "shell.execute_reply.started": "2022-11-15T17:17:46.335805Z"
    }
   },
   "outputs": [
    {
     "name": "stdout",
     "output_type": "stream",
     "text": [
      "29741\n"
     ]
    }
   ],
   "source": [
    "print(len(context))"
   ]
  },
  {
   "cell_type": "code",
   "execution_count": 21,
   "metadata": {
    "execution": {
     "iopub.execute_input": "2022-11-15T17:17:48.833518Z",
     "iopub.status.busy": "2022-11-15T17:17:48.833131Z",
     "iopub.status.idle": "2022-11-15T17:17:48.840000Z",
     "shell.execute_reply": "2022-11-15T17:17:48.838397Z",
     "shell.execute_reply.started": "2022-11-15T17:17:48.833488Z"
    }
   },
   "outputs": [
    {
     "name": "stdout",
     "output_type": "stream",
     "text": [
      "19717\n"
     ]
    }
   ],
   "source": [
    "print(len(notFound))"
   ]
  },
  {
   "cell_type": "code",
   "execution_count": 22,
   "metadata": {
    "execution": {
     "iopub.execute_input": "2022-11-15T17:17:54.263233Z",
     "iopub.status.busy": "2022-11-15T17:17:54.262817Z",
     "iopub.status.idle": "2022-11-15T17:17:54.270779Z",
     "shell.execute_reply": "2022-11-15T17:17:54.269470Z",
     "shell.execute_reply.started": "2022-11-15T17:17:54.263203Z"
    }
   },
   "outputs": [
    {
     "name": "stdout",
     "output_type": "stream",
     "text": [
      "मोमबत्ती_वह_की\n"
     ]
    }
   ],
   "source": [
    "print(context['मोमबत्तियों'])"
   ]
  },
  {
   "cell_type": "code",
   "execution_count": 23,
   "metadata": {
    "execution": {
     "iopub.execute_input": "2022-11-15T17:17:58.171283Z",
     "iopub.status.busy": "2022-11-15T17:17:58.170919Z",
     "iopub.status.idle": "2022-11-15T17:17:58.179420Z",
     "shell.execute_reply": "2022-11-15T17:17:58.177942Z",
     "shell.execute_reply.started": "2022-11-15T17:17:58.171255Z"
    }
   },
   "outputs": [
    {
     "data": {
      "text/plain": [
       "['मोमबत्ती', 'वह', 'की']"
      ]
     },
     "execution_count": 23,
     "metadata": {},
     "output_type": "execute_result"
    }
   ],
   "source": [
    "'मोमबत्ती_वह_की'.split('_')"
   ]
  },
  {
   "cell_type": "code",
   "execution_count": 24,
   "metadata": {
    "execution": {
     "iopub.execute_input": "2022-11-15T17:17:58.944480Z",
     "iopub.status.busy": "2022-11-15T17:17:58.944083Z",
     "iopub.status.idle": "2022-11-15T17:17:59.001835Z",
     "shell.execute_reply": "2022-11-15T17:17:58.999746Z",
     "shell.execute_reply.started": "2022-11-15T17:17:58.944451Z"
    }
   },
   "outputs": [],
   "source": [
    "wordList = []\n",
    "lemmaList = []\n",
    "contextList = []\n",
    "\n",
    "for word, values in context.items():\n",
    "    values = values.split('_')\n",
    "    wordList.append(word)\n",
    "    lemmaList.append(values[0])\n",
    "    contextList.append(values[1] + \" \" + word + \" \" + values[2])"
   ]
  },
  {
   "cell_type": "code",
   "execution_count": 25,
   "metadata": {
    "execution": {
     "iopub.execute_input": "2022-11-15T17:18:00.046307Z",
     "iopub.status.busy": "2022-11-15T17:18:00.045671Z",
     "iopub.status.idle": "2022-11-15T17:18:00.051820Z",
     "shell.execute_reply": "2022-11-15T17:18:00.050524Z",
     "shell.execute_reply.started": "2022-11-15T17:18:00.046276Z"
    }
   },
   "outputs": [
    {
     "name": "stdout",
     "output_type": "stream",
     "text": [
      "29741\n",
      "29741\n",
      "29741\n"
     ]
    }
   ],
   "source": [
    "print(len(wordList))\n",
    "print(len(lemmaList))\n",
    "print(len(contextList))"
   ]
  },
  {
   "cell_type": "code",
   "execution_count": 26,
   "metadata": {
    "execution": {
     "iopub.execute_input": "2022-11-15T17:18:02.133141Z",
     "iopub.status.busy": "2022-11-15T17:18:02.132014Z",
     "iopub.status.idle": "2022-11-15T17:18:02.164864Z",
     "shell.execute_reply": "2022-11-15T17:18:02.163733Z",
     "shell.execute_reply.started": "2022-11-15T17:18:02.133106Z"
    }
   },
   "outputs": [
    {
     "data": {
      "text/html": [
       "<div>\n",
       "<style scoped>\n",
       "    .dataframe tbody tr th:only-of-type {\n",
       "        vertical-align: middle;\n",
       "    }\n",
       "\n",
       "    .dataframe tbody tr th {\n",
       "        vertical-align: top;\n",
       "    }\n",
       "\n",
       "    .dataframe thead th {\n",
       "        text-align: right;\n",
       "    }\n",
       "</style>\n",
       "<table border=\"1\" class=\"dataframe\">\n",
       "  <thead>\n",
       "    <tr style=\"text-align: right;\">\n",
       "      <th></th>\n",
       "      <th>Index</th>\n",
       "      <th>Lemma</th>\n",
       "      <th>Derived Word</th>\n",
       "      <th>Context</th>\n",
       "    </tr>\n",
       "  </thead>\n",
       "  <tbody>\n",
       "    <tr>\n",
       "      <th>0</th>\n",
       "      <td>1</td>\n",
       "      <td>मोमबत्ती</td>\n",
       "      <td>मोमबत्तियों</td>\n",
       "      <td>वह मोमबत्तियों की</td>\n",
       "    </tr>\n",
       "    <tr>\n",
       "      <th>1</th>\n",
       "      <td>2</td>\n",
       "      <td>मोमबत्ती</td>\n",
       "      <td>मोमबत्तियाँ</td>\n",
       "      <td>है मोमबत्तियाँ कम</td>\n",
       "    </tr>\n",
       "    <tr>\n",
       "      <th>2</th>\n",
       "      <td>3</td>\n",
       "      <td>मोमबत्ती</td>\n",
       "      <td>मोमबत्तिया</td>\n",
       "      <td>तथा मोमबत्तिया जलाकर</td>\n",
       "    </tr>\n",
       "    <tr>\n",
       "      <th>3</th>\n",
       "      <td>4</td>\n",
       "      <td>गन्ना</td>\n",
       "      <td>उपगन्ना</td>\n",
       "      <td>उन्होंनें उपगन्ना आयुक्त</td>\n",
       "    </tr>\n",
       "    <tr>\n",
       "      <th>4</th>\n",
       "      <td>5</td>\n",
       "      <td>गन्ना</td>\n",
       "      <td>गन्नाधिकारी</td>\n",
       "      <td>जिला गन्नाधिकारी साहब</td>\n",
       "    </tr>\n",
       "  </tbody>\n",
       "</table>\n",
       "</div>"
      ],
      "text/plain": [
       "   Index     Lemma Derived Word                   Context\n",
       "0      1  मोमबत्ती  मोमबत्तियों         वह मोमबत्तियों की\n",
       "1      2  मोमबत्ती  मोमबत्तियाँ         है मोमबत्तियाँ कम\n",
       "2      3  मोमबत्ती   मोमबत्तिया      तथा मोमबत्तिया जलाकर\n",
       "3      4     गन्ना      उपगन्ना  उन्होंनें उपगन्ना आयुक्त\n",
       "4      5     गन्ना  गन्नाधिकारी     जिला गन्नाधिकारी साहब"
      ]
     },
     "execution_count": 26,
     "metadata": {},
     "output_type": "execute_result"
    }
   ],
   "source": [
    "contextdf = pd.DataFrame()\n",
    "contextdf['Index'] = range(1, len(wordList) + 1)\n",
    "contextdf['Lemma'] = lemmaList\n",
    "contextdf['Derived Word'] = wordList\n",
    "contextdf['Context'] = contextList\n",
    "contextdf.head()"
   ]
  },
  {
   "cell_type": "code",
   "execution_count": 27,
   "metadata": {
    "execution": {
     "iopub.execute_input": "2022-11-15T17:18:03.583565Z",
     "iopub.status.busy": "2022-11-15T17:18:03.583113Z",
     "iopub.status.idle": "2022-11-15T17:18:03.693381Z",
     "shell.execute_reply": "2022-11-15T17:18:03.691752Z",
     "shell.execute_reply.started": "2022-11-15T17:18:03.583533Z"
    }
   },
   "outputs": [],
   "source": [
    "contextdf.to_csv('./Context.csv')"
   ]
  },
  {
   "cell_type": "code",
   "execution_count": 28,
   "metadata": {
    "execution": {
     "iopub.execute_input": "2022-11-15T17:18:05.629081Z",
     "iopub.status.busy": "2022-11-15T17:18:05.628648Z",
     "iopub.status.idle": "2022-11-15T17:18:05.706672Z",
     "shell.execute_reply": "2022-11-15T17:18:05.705481Z",
     "shell.execute_reply.started": "2022-11-15T17:18:05.629050Z"
    }
   },
   "outputs": [
    {
     "data": {
      "text/html": [
       "<div>\n",
       "<style scoped>\n",
       "    .dataframe tbody tr th:only-of-type {\n",
       "        vertical-align: middle;\n",
       "    }\n",
       "\n",
       "    .dataframe tbody tr th {\n",
       "        vertical-align: top;\n",
       "    }\n",
       "\n",
       "    .dataframe thead th {\n",
       "        text-align: right;\n",
       "    }\n",
       "</style>\n",
       "<table border=\"1\" class=\"dataframe\">\n",
       "  <thead>\n",
       "    <tr style=\"text-align: right;\">\n",
       "      <th></th>\n",
       "      <th>S. No</th>\n",
       "      <th>Derived Word</th>\n",
       "      <th>Lemma</th>\n",
       "    </tr>\n",
       "  </thead>\n",
       "  <tbody>\n",
       "    <tr>\n",
       "      <th>0</th>\n",
       "      <td>0</td>\n",
       "      <td>मोमबत्तियों</td>\n",
       "      <td>मोमबत्ती</td>\n",
       "    </tr>\n",
       "    <tr>\n",
       "      <th>1</th>\n",
       "      <td>1</td>\n",
       "      <td>मोमबत्तियाँ</td>\n",
       "      <td>मोमबत्ती</td>\n",
       "    </tr>\n",
       "    <tr>\n",
       "      <th>2</th>\n",
       "      <td>2</td>\n",
       "      <td>मोमबत्ति</td>\n",
       "      <td>मोमबत्ती</td>\n",
       "    </tr>\n",
       "    <tr>\n",
       "      <th>3</th>\n",
       "      <td>3</td>\n",
       "      <td>मोमबत्तिया</td>\n",
       "      <td>मोमबत्ती</td>\n",
       "    </tr>\n",
       "    <tr>\n",
       "      <th>4</th>\n",
       "      <td>4</td>\n",
       "      <td>गन्नाः</td>\n",
       "      <td>गन्ना</td>\n",
       "    </tr>\n",
       "  </tbody>\n",
       "</table>\n",
       "</div>"
      ],
      "text/plain": [
       "   S. No Derived Word     Lemma\n",
       "0      0  मोमबत्तियों  मोमबत्ती\n",
       "1      1  मोमबत्तियाँ  मोमबत्ती\n",
       "2      2     मोमबत्ति  मोमबत्ती\n",
       "3      3   मोमबत्तिया  मोमबत्ती\n",
       "4      4       गन्नाः     गन्ना"
      ]
     },
     "execution_count": 28,
     "metadata": {},
     "output_type": "execute_result"
    }
   ],
   "source": [
    "df = pd.read_csv('../input/generated-dataset-nlp-project/newWords_top5.csv')\n",
    "df.head()"
   ]
  },
  {
   "cell_type": "code",
   "execution_count": 29,
   "metadata": {
    "execution": {
     "iopub.execute_input": "2022-11-15T17:18:07.476472Z",
     "iopub.status.busy": "2022-11-15T17:18:07.476016Z",
     "iopub.status.idle": "2022-11-15T17:18:07.494121Z",
     "shell.execute_reply": "2022-11-15T17:18:07.491032Z",
     "shell.execute_reply.started": "2022-11-15T17:18:07.476433Z"
    }
   },
   "outputs": [],
   "source": [
    "#Only take those words which have the lemma in their prefix\n",
    "def cleanData(df):\n",
    "    wordToLemmaMap = {} #Dictionary to store mapping from Derived Word to Lemma\n",
    "    \n",
    "    for i in range(len(df)):\n",
    "        data = df.iloc[i]\n",
    "        word = data['Derived Word']\n",
    "        lemma = data['Lemma']\n",
    "        lemmalen = len(lemma)\n",
    "        suffixFound = False\n",
    "        \n",
    "        if(word == lemma):\n",
    "            wordToLemmaMap[word] = lemma\n",
    "        \n",
    "        else:\n",
    "            j = 0\n",
    "            while(j < len(word)):\n",
    "                if(j == lemmalen):\n",
    "                    break\n",
    "                if(word[j] != lemma[j]):\n",
    "                    break\n",
    "                j += 1\n",
    "            \n",
    "            if(j == lemmalen):\n",
    "                wordToLemmaMap[word] = lemma\n",
    "\n",
    "    return wordToLemmaMap"
   ]
  },
  {
   "cell_type": "code",
   "execution_count": 30,
   "metadata": {
    "execution": {
     "iopub.execute_input": "2022-11-15T17:18:12.061548Z",
     "iopub.status.busy": "2022-11-15T17:18:12.061150Z",
     "iopub.status.idle": "2022-11-15T17:18:18.746454Z",
     "shell.execute_reply": "2022-11-15T17:18:18.745303Z",
     "shell.execute_reply.started": "2022-11-15T17:18:12.061514Z"
    }
   },
   "outputs": [
    {
     "name": "stdout",
     "output_type": "stream",
     "text": [
      "16240\n"
     ]
    }
   ],
   "source": [
    "wordToLemmaMap = cleanData(df)\n",
    "print(len(wordToLemmaMap))"
   ]
  },
  {
   "cell_type": "code",
   "execution_count": 31,
   "metadata": {
    "execution": {
     "iopub.execute_input": "2022-11-15T17:18:34.257233Z",
     "iopub.status.busy": "2022-11-15T17:18:34.256778Z",
     "iopub.status.idle": "2022-11-15T17:18:34.282213Z",
     "shell.execute_reply": "2022-11-15T17:18:34.280670Z",
     "shell.execute_reply.started": "2022-11-15T17:18:34.257197Z"
    }
   },
   "outputs": [
    {
     "data": {
      "text/html": [
       "<div>\n",
       "<style scoped>\n",
       "    .dataframe tbody tr th:only-of-type {\n",
       "        vertical-align: middle;\n",
       "    }\n",
       "\n",
       "    .dataframe tbody tr th {\n",
       "        vertical-align: top;\n",
       "    }\n",
       "\n",
       "    .dataframe thead th {\n",
       "        text-align: right;\n",
       "    }\n",
       "</style>\n",
       "<table border=\"1\" class=\"dataframe\">\n",
       "  <thead>\n",
       "    <tr style=\"text-align: right;\">\n",
       "      <th></th>\n",
       "      <th>0</th>\n",
       "      <th>1</th>\n",
       "    </tr>\n",
       "  </thead>\n",
       "  <tbody>\n",
       "    <tr>\n",
       "      <th>0</th>\n",
       "      <td>गन्नाः</td>\n",
       "      <td>गन्ना</td>\n",
       "    </tr>\n",
       "    <tr>\n",
       "      <th>1</th>\n",
       "      <td>गन्नाधिकारी</td>\n",
       "      <td>गन्ना</td>\n",
       "    </tr>\n",
       "    <tr>\n",
       "      <th>2</th>\n",
       "      <td>संदेहलाभ</td>\n",
       "      <td>संदेह</td>\n",
       "    </tr>\n",
       "    <tr>\n",
       "      <th>3</th>\n",
       "      <td>संदेह्</td>\n",
       "      <td>संदेह</td>\n",
       "    </tr>\n",
       "    <tr>\n",
       "      <th>4</th>\n",
       "      <td>संदेहो</td>\n",
       "      <td>संदेह</td>\n",
       "    </tr>\n",
       "  </tbody>\n",
       "</table>\n",
       "</div>"
      ],
      "text/plain": [
       "             0      1\n",
       "0       गन्नाः  गन्ना\n",
       "1  गन्नाधिकारी  गन्ना\n",
       "2     संदेहलाभ  संदेह\n",
       "3       संदेह्  संदेह\n",
       "4       संदेहो  संदेह"
      ]
     },
     "execution_count": 31,
     "metadata": {},
     "output_type": "execute_result"
    }
   ],
   "source": [
    "wordToLemmadf = pd.DataFrame(wordToLemmaMap.items())\n",
    "wordToLemmadf.head()"
   ]
  },
  {
   "cell_type": "code",
   "execution_count": 32,
   "metadata": {
    "execution": {
     "iopub.execute_input": "2022-11-15T17:18:35.901645Z",
     "iopub.status.busy": "2022-11-15T17:18:35.901247Z",
     "iopub.status.idle": "2022-11-15T17:18:35.942112Z",
     "shell.execute_reply": "2022-11-15T17:18:35.940405Z",
     "shell.execute_reply.started": "2022-11-15T17:18:35.901615Z"
    }
   },
   "outputs": [],
   "source": [
    "wordToLemmadf.to_csv('./cleaned_generated.csv')"
   ]
  },
  {
   "cell_type": "code",
   "execution_count": 33,
   "metadata": {
    "execution": {
     "iopub.execute_input": "2022-11-15T17:18:39.356404Z",
     "iopub.status.busy": "2022-11-15T17:18:39.355621Z",
     "iopub.status.idle": "2022-11-15T17:18:39.412992Z",
     "shell.execute_reply": "2022-11-15T17:18:39.411845Z",
     "shell.execute_reply.started": "2022-11-15T17:18:39.356368Z"
    }
   },
   "outputs": [
    {
     "data": {
      "text/html": [
       "<div>\n",
       "<style scoped>\n",
       "    .dataframe tbody tr th:only-of-type {\n",
       "        vertical-align: middle;\n",
       "    }\n",
       "\n",
       "    .dataframe tbody tr th {\n",
       "        vertical-align: top;\n",
       "    }\n",
       "\n",
       "    .dataframe thead th {\n",
       "        text-align: right;\n",
       "    }\n",
       "</style>\n",
       "<table border=\"1\" class=\"dataframe\">\n",
       "  <thead>\n",
       "    <tr style=\"text-align: right;\">\n",
       "      <th></th>\n",
       "      <th>Unnamed: 0</th>\n",
       "      <th>Derived Word</th>\n",
       "      <th>Lemma</th>\n",
       "    </tr>\n",
       "  </thead>\n",
       "  <tbody>\n",
       "    <tr>\n",
       "      <th>0</th>\n",
       "      <td>1</td>\n",
       "      <td>गन्नाः</td>\n",
       "      <td>गन्ना</td>\n",
       "    </tr>\n",
       "    <tr>\n",
       "      <th>1</th>\n",
       "      <td>2</td>\n",
       "      <td>गन्नाधिकारी</td>\n",
       "      <td>गन्ना</td>\n",
       "    </tr>\n",
       "    <tr>\n",
       "      <th>2</th>\n",
       "      <td>3</td>\n",
       "      <td>संदेहलाभ</td>\n",
       "      <td>संदेह</td>\n",
       "    </tr>\n",
       "    <tr>\n",
       "      <th>3</th>\n",
       "      <td>4</td>\n",
       "      <td>संदेह्</td>\n",
       "      <td>संदेह</td>\n",
       "    </tr>\n",
       "    <tr>\n",
       "      <th>4</th>\n",
       "      <td>5</td>\n",
       "      <td>संदेहो</td>\n",
       "      <td>संदेह</td>\n",
       "    </tr>\n",
       "  </tbody>\n",
       "</table>\n",
       "</div>"
      ],
      "text/plain": [
       "   Unnamed: 0 Derived Word  Lemma\n",
       "0           1       गन्नाः  गन्ना\n",
       "1           2  गन्नाधिकारी  गन्ना\n",
       "2           3     संदेहलाभ  संदेह\n",
       "3           4       संदेह्  संदेह\n",
       "4           5       संदेहो  संदेह"
      ]
     },
     "execution_count": 33,
     "metadata": {},
     "output_type": "execute_result"
    }
   ],
   "source": [
    "cleangendf = pd.read_csv('../input/generated-dataset-nlp-project/cleaned_generated.csv')\n",
    "cleangendf.head()"
   ]
  },
  {
   "cell_type": "code",
   "execution_count": 34,
   "metadata": {
    "execution": {
     "iopub.execute_input": "2022-11-15T17:18:41.723125Z",
     "iopub.status.busy": "2022-11-15T17:18:41.722286Z",
     "iopub.status.idle": "2022-11-15T17:18:43.959670Z",
     "shell.execute_reply": "2022-11-15T17:18:43.957069Z",
     "shell.execute_reply.started": "2022-11-15T17:18:41.723095Z"
    }
   },
   "outputs": [
    {
     "name": "stdout",
     "output_type": "stream",
     "text": [
      "Till row 0 processed.\n",
      "Till row 1000 processed.\n",
      "Till row 2000 processed.\n",
      "Till row 3000 processed.\n",
      "Till row 4000 processed.\n",
      "Till row 5000 processed.\n",
      "Till row 6000 processed.\n",
      "Till row 7000 processed.\n",
      "Till row 8000 processed.\n",
      "Till row 9000 processed.\n",
      "Till row 10000 processed.\n",
      "Till row 11000 processed.\n",
      "Till row 12000 processed.\n",
      "Till row 13000 processed.\n",
      "Till row 14000 processed.\n",
      "Till row 15000 processed.\n",
      "Till row 16000 processed.\n"
     ]
    }
   ],
   "source": [
    "context, notFound = findContext(cleangendf, wordTrigrams)"
   ]
  },
  {
   "cell_type": "code",
   "execution_count": 35,
   "metadata": {
    "execution": {
     "iopub.execute_input": "2022-11-15T17:18:45.774241Z",
     "iopub.status.busy": "2022-11-15T17:18:45.773781Z",
     "iopub.status.idle": "2022-11-15T17:18:45.780509Z",
     "shell.execute_reply": "2022-11-15T17:18:45.779335Z",
     "shell.execute_reply.started": "2022-11-15T17:18:45.774211Z"
    }
   },
   "outputs": [
    {
     "name": "stdout",
     "output_type": "stream",
     "text": [
      "9345\n",
      "6895\n"
     ]
    }
   ],
   "source": [
    "print(len(context))\n",
    "print(len(notFound))"
   ]
  },
  {
   "cell_type": "code",
   "execution_count": 36,
   "metadata": {
    "execution": {
     "iopub.execute_input": "2022-11-15T17:18:49.094057Z",
     "iopub.status.busy": "2022-11-15T17:18:49.093636Z",
     "iopub.status.idle": "2022-11-15T17:18:49.114714Z",
     "shell.execute_reply": "2022-11-15T17:18:49.113411Z",
     "shell.execute_reply.started": "2022-11-15T17:18:49.094027Z"
    }
   },
   "outputs": [],
   "source": [
    "wordList = []\n",
    "lemmaList = []\n",
    "contextList = []\n",
    "\n",
    "for word, values in context.items():\n",
    "    values = values.split('_')\n",
    "    wordList.append(word)\n",
    "    lemmaList.append(values[0])\n",
    "    contextList.append(values[1] + \" \" + word + \" \" + values[2])"
   ]
  },
  {
   "cell_type": "code",
   "execution_count": 37,
   "metadata": {
    "execution": {
     "iopub.execute_input": "2022-11-15T17:18:50.084853Z",
     "iopub.status.busy": "2022-11-15T17:18:50.084290Z",
     "iopub.status.idle": "2022-11-15T17:18:50.091997Z",
     "shell.execute_reply": "2022-11-15T17:18:50.090403Z",
     "shell.execute_reply.started": "2022-11-15T17:18:50.084817Z"
    }
   },
   "outputs": [
    {
     "name": "stdout",
     "output_type": "stream",
     "text": [
      "9345\n",
      "9345\n",
      "9345\n"
     ]
    }
   ],
   "source": [
    "print(len(wordList))\n",
    "print(len(lemmaList))\n",
    "print(len(contextList))"
   ]
  },
  {
   "cell_type": "code",
   "execution_count": 38,
   "metadata": {
    "execution": {
     "iopub.execute_input": "2022-11-15T17:18:51.831583Z",
     "iopub.status.busy": "2022-11-15T17:18:51.831141Z",
     "iopub.status.idle": "2022-11-15T17:18:51.856326Z",
     "shell.execute_reply": "2022-11-15T17:18:51.853979Z",
     "shell.execute_reply.started": "2022-11-15T17:18:51.831551Z"
    }
   },
   "outputs": [
    {
     "data": {
      "text/html": [
       "<div>\n",
       "<style scoped>\n",
       "    .dataframe tbody tr th:only-of-type {\n",
       "        vertical-align: middle;\n",
       "    }\n",
       "\n",
       "    .dataframe tbody tr th {\n",
       "        vertical-align: top;\n",
       "    }\n",
       "\n",
       "    .dataframe thead th {\n",
       "        text-align: right;\n",
       "    }\n",
       "</style>\n",
       "<table border=\"1\" class=\"dataframe\">\n",
       "  <thead>\n",
       "    <tr style=\"text-align: right;\">\n",
       "      <th></th>\n",
       "      <th>Index</th>\n",
       "      <th>Lemma</th>\n",
       "      <th>Derived Word</th>\n",
       "      <th>Context</th>\n",
       "    </tr>\n",
       "  </thead>\n",
       "  <tbody>\n",
       "    <tr>\n",
       "      <th>0</th>\n",
       "      <td>1</td>\n",
       "      <td>गन्ना</td>\n",
       "      <td>गन्नाधिकारी</td>\n",
       "      <td>जिला गन्नाधिकारी साहब</td>\n",
       "    </tr>\n",
       "    <tr>\n",
       "      <th>1</th>\n",
       "      <td>2</td>\n",
       "      <td>संदेह</td>\n",
       "      <td>संदेहलाभ</td>\n",
       "      <td>में संदेहलाभ दिया</td>\n",
       "    </tr>\n",
       "    <tr>\n",
       "      <th>2</th>\n",
       "      <td>3</td>\n",
       "      <td>संदेह</td>\n",
       "      <td>संदेहो</td>\n",
       "      <td>गंभीर संदेहो के</td>\n",
       "    </tr>\n",
       "    <tr>\n",
       "      <th>3</th>\n",
       "      <td>4</td>\n",
       "      <td>मारपीट</td>\n",
       "      <td>मारपीटकर</td>\n",
       "      <td>जाकर मारपीटकर और</td>\n",
       "    </tr>\n",
       "    <tr>\n",
       "      <th>4</th>\n",
       "      <td>5</td>\n",
       "      <td>मारपीट</td>\n",
       "      <td>मारपीटा</td>\n",
       "      <td>को मारपीटा और</td>\n",
       "    </tr>\n",
       "  </tbody>\n",
       "</table>\n",
       "</div>"
      ],
      "text/plain": [
       "   Index   Lemma Derived Word                Context\n",
       "0      1   गन्ना  गन्नाधिकारी  जिला गन्नाधिकारी साहब\n",
       "1      2   संदेह     संदेहलाभ      में संदेहलाभ दिया\n",
       "2      3   संदेह       संदेहो        गंभीर संदेहो के\n",
       "3      4  मारपीट     मारपीटकर       जाकर मारपीटकर और\n",
       "4      5  मारपीट      मारपीटा          को मारपीटा और"
      ]
     },
     "execution_count": 38,
     "metadata": {},
     "output_type": "execute_result"
    }
   ],
   "source": [
    "contextdf = pd.DataFrame()\n",
    "contextdf['Index'] = range(1, len(wordList) + 1)\n",
    "contextdf['Lemma'] = lemmaList\n",
    "contextdf['Derived Word'] = wordList\n",
    "contextdf['Context'] = contextList\n",
    "contextdf.head()"
   ]
  },
  {
   "cell_type": "code",
   "execution_count": 39,
   "metadata": {
    "execution": {
     "iopub.execute_input": "2022-11-15T17:18:53.849379Z",
     "iopub.status.busy": "2022-11-15T17:18:53.848690Z",
     "iopub.status.idle": "2022-11-15T17:18:53.885499Z",
     "shell.execute_reply": "2022-11-15T17:18:53.884361Z",
     "shell.execute_reply.started": "2022-11-15T17:18:53.849316Z"
    }
   },
   "outputs": [],
   "source": [
    "contextdf.to_csv('./Context_CleanedData.csv')"
   ]
  },
  {
   "cell_type": "code",
   "execution_count": null,
   "metadata": {},
   "outputs": [],
   "source": []
  }
 ],
 "metadata": {
  "kernelspec": {
   "display_name": "Python 3 (ipykernel)",
   "language": "python",
   "name": "python3"
  },
  "language_info": {
   "codemirror_mode": {
    "name": "ipython",
    "version": 3
   },
   "file_extension": ".py",
   "mimetype": "text/x-python",
   "name": "python",
   "nbconvert_exporter": "python",
   "pygments_lexer": "ipython3",
   "version": "3.10.8"
  }
 },
 "nbformat": 4,
 "nbformat_minor": 4
}
